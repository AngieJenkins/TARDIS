{
 "cells": [
  {
   "cell_type": "code",
   "execution_count": 1,
   "metadata": {},
   "outputs": [],
   "source": [
    "# Код для извлечения именованных сущностей можно найти в файле ArticleKorpus.py. \n",
    "# В результате этой операции именованные сущности для каждой статьи были записаны в файл names_MF.json\n",
    "# Архив статей содержится в файле articles_MF.py.\n",
    "# Поскольку на выбранном мною сайте новости не разделяются на рубрики, я смотрела рапределение \n",
    "# именованных сущностей по авторам статей. "
   ]
  },
  {
   "cell_type": "code",
   "execution_count": 1,
   "metadata": {},
   "outputs": [],
   "source": [
    "import json\n",
    "from collections import Counter"
   ]
  },
  {
   "cell_type": "code",
   "execution_count": 2,
   "metadata": {},
   "outputs": [],
   "source": [
    "authors = dict()"
   ]
  },
  {
   "cell_type": "code",
   "execution_count": 3,
   "metadata": {},
   "outputs": [],
   "source": [
    "with open('articles_MF.json', 'r') as read_articles:\n",
    "    articles = json.load(read_articles)\n",
    "    \n",
    "    with open('names_MF.json', 'r') as read_names:\n",
    "        names = json.load(read_names)\n",
    "\n",
    "        for i in range(1, (len(articles)+1)):\n",
    "            aut = articles[str(i)]['author']\n",
    "            nms = names[str(i)]\n",
    "    \n",
    "            if aut in authors:\n",
    "                for name in nms:\n",
    "                    if name in authors[aut]:\n",
    "                        authors[aut][name] = authors[aut][name] + nms[name]\n",
    "                    else:\n",
    "                        authors[aut][name] = nms[name]\n",
    "            else:\n",
    "                authors[aut] = nms"
   ]
  },
  {
   "cell_type": "code",
   "execution_count": 5,
   "metadata": {},
   "outputs": [
    {
     "name": "stdout",
     "output_type": "stream",
     "text": [
      "10 самых часто упоминаемых имен и названий по авторам:\n",
      "Дмитрий Кинский: [('Netflix', 148), ('Disney', 100), ('PS', 84), ('Marvel', 55), ('Sony', 54), ('Xbox', 46), ('Ubisoft', 40), ('России', 39), ('PlayStation', 36), ('HBO Max', 34)] \n",
      "\n",
      "Кот-император: [('Netflix', 633), ('Disney', 590), ('Marvel', 553), ('России', 317), ('DC', 317), ('Amazon', 247), ('Warner Bros', 239), ('HBO', 238), ('Deadline', 230), ('СМИ', 227)] \n",
      "\n",
      "Сергей Серебрянский: [('DC', 7), ('Netflix', 6), ('Hobby World', 5), ('Hobby Games', 4), ('Алексей Ионов', 3), ('Мира фантастики', 3), ('Кайло Рен', 3), ('России', 3), ('Сети', 3), ('Лукаса', 3)] \n",
      "\n",
      "Евгений Пекло: [('Ubisoft', 3), ('PS', 3), ('Stadia', 2), ('Evil Pirate', 1), ('КиноПоиск HD', 1), ('Киберслав', 1), ('КиноПоиска', 1), ('Рики', 1), ('Larian Studio', 1), ('Жрец (Cleric)', 1)] \n",
      "\n",
      "Александра Давыдова: [('Корнея Чуковского', 1)] \n",
      "\n",
      "Александр Стрепетилов: [('Аликс', 15), ('Nintendo', 13), ('Альянса', 13), ('Marvel', 12), ('DC', 12), ('Гордон', 11), ('Барри', 11), ('Steam', 10), ('Яндекс', 10), ('Valve', 10)] \n",
      "\n",
      "Екатерина Никитина: [('NASA', 3), ('FAST', 3), ('Марс', 2), ('Канаверал', 1), ('Красной планеты', 1), ('Марсе', 1), ('Perseverance', 1), ('Землю', 1), ('Марса', 1), ('Credit', 1)] \n",
      "\n",
      "Денис Варков: [('Marvel', 6), ('Dark Horse', 3), ('Хищника', 2), ('IGN', 1), ('Хищниках', 1), ('Арчи Эндрюсом', 1), ('Лигой справедливости', 1), ('Судьей Дреддом', 1), ('Disney', 1), ('Fox', 1)] \n",
      "\n",
      "Игорь Хованский: [('Marvel', 2), ('Альфред Хичкок', 2), ('Деннис О’Нил', 1), ('Дэнни', 1), ('Людей-Икс', 1), ('Сорвиголовы', 1), ('Мадам Паутину', 1), ('Гидромена', 1), ('Фрэнку Миллеру', 1), ('DC', 1)] \n",
      "\n",
      "Александр Анохин: [('Games Workshop', 2), ('Age of Sigmar', 1), ('WH40k', 1), ('Chapter Approved', 1), ('Примарисы', 1), ('Black Library', 1), ('Ереси Хоруса', 1), ('Примарис-космодесантники', 1), ('Некроны', 1), ('Войны миров', 1)] \n",
      "\n",
      "Алексей Ионов: [('Дени', 16), ('Серсея', 15), ('Филони', 13), ('Lucasfilm', 11), ('Лэндо', 10), ('Хан', 9), ('Траун', 8), ('Джона', 7), ('Джон', 7), ('Абрамс', 7)] \n",
      "\n",
      "Борис Невский: [('Андрей', 14), ('Эндрю', 13), ('Клэр', 4), ('Андрей Зильберштейн', 4), ('Андрея', 4), ('Харитонова', 3), ('Кейт', 3), ('Павлова', 3), ('Кеньон', 3), ('Михаил Харитонов', 2)] \n",
      "\n",
      "Евгения Блинова: [('Netflix', 67), ('Marvel', 62), ('Disney', 59), ('Variety', 38), ('DC', 36), ('Deadline', 33), ('PS', 30), ('THR', 28), ('Xbox', 26), ('Amazon', 24)] \n",
      "\n",
      "Иван Трифонов: [('Marvel', 4), ('DC Universe', 3), ('Deadline', 2), ('WarnerMedia', 2), ('Джеймс Ганн', 2), ('Флоренс Пью', 2), ('Пайпер', 2), ('Хоакин Феникс', 2), ('Джефом Лоэбом', 1), ('Лоэб', 1)] \n",
      "\n",
      "Владимир Макаров: [('Netflix', 25), ('Disney', 22), ('Comic-Con', 15), ('DC', 14), ('России', 12), ('The Hollywood Reporter', 11), ('Warner Bros', 11), ('HBO', 11), ('Ганна', 10), ('Сан-Диего', 10)] \n",
      "\n",
      "Александр Гагинский: [('Джинни', 7), ('Георгиу', 4), ('Бернхэм', 4), ('Спока', 4), ('Дункан Джонс', 4), ('Дискавери', 3), ('Уилл Смит', 3), ('Аладдина', 3), ('Сару', 2), ('Disney', 2)] \n",
      "\n",
      "Ярослав Гафнер: [('Лизард', 9), ('LG', 6), ('Новый Диск', 6), ('Джейсон Борн', 5), ('Харли Квинн', 4), ('ЦРУ', 4), ('Дикий Запад', 3), ('Голливуде', 3), ('Никс', 2), ('Кингсглейв', 2)] \n",
      "\n",
      "Дмитрий Злотницкий: [('Джин', 5), ('Империи', 4), ('Кассиана', 2), ('Бодхи', 2), ('Донни Йена', 2), ('Блэйза', 2), ('Entertainment Weekly', 1), ('Повстанцам', 1), ('Фелисити Джонс', 1), ('Люк', 1)] \n",
      "\n",
      "Владислав Чирин: [] \n",
      "\n"
     ]
    }
   ],
   "source": [
    "print('10 самых часто упоминаемых имен и названий по авторам:', '\\n')\n",
    "\n",
    "for key, value in authors.items():\n",
    "    a = Counter(value)\n",
    "    if (key != 'no author') and (value != []):\n",
    "        print(key + ':', a.most_common(10), '\\n')"
   ]
  },
  {
   "cell_type": "code",
   "execution_count": null,
   "metadata": {},
   "outputs": [],
   "source": []
  }
 ],
 "metadata": {
  "kernelspec": {
   "display_name": "Python 3",
   "language": "python",
   "name": "python3"
  },
  "language_info": {
   "codemirror_mode": {
    "name": "ipython",
    "version": 3
   },
   "file_extension": ".py",
   "mimetype": "text/x-python",
   "name": "python",
   "nbconvert_exporter": "python",
   "pygments_lexer": "ipython3",
   "version": "3.7.2"
  }
 },
 "nbformat": 4,
 "nbformat_minor": 4
}
